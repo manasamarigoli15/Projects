{
 "cells": [
  {
   "cell_type": "markdown",
   "id": "814a1802",
   "metadata": {},
   "source": [
    "## Ageing_Sign_Detect"
   ]
  },
  {
   "cell_type": "code",
   "execution_count": 2,
   "id": "1db7fcd0",
   "metadata": {},
   "outputs": [],
   "source": [
    "from keras.models import model_from_json # loading the model from json\n",
    "from collections import OrderedDict\n",
    "from imutils import face_utils\n",
    "import imutils\n",
    "import cv2\n",
    "import dlib\n",
    "import argparse\n",
    "import numpy as np"
   ]
  },
  {
   "cell_type": "code",
   "execution_count": null,
   "id": "dbdb860b",
   "metadata": {},
   "outputs": [],
   "source": [
    "#loading the model and weights\n",
    "#################PATH TO model.json FILE COMES HERE########\n",
    "json_file = open(\"path to model.json file\", \"r\")\n",
    "loaded_model_json = json_file.read()\n",
    "json_file.close()\n",
    "loaded_model = model_from_json(loaded_model_json)\n",
    "#########################PATH TO weights.h5 FILE COMES HERE#######\n",
    "loaded_model.load_weights(\"path to weights.h5 file\")\n",
    "print(\"Model Loaded Successfully!!\")"
   ]
  },
  {
   "cell_type": "code",
   "execution_count": null,
   "id": "a37577b4",
   "metadata": {},
   "outputs": [],
   "source": [
    "def visualize_facial_landmarks(image, shape, colors=None, alpha=0.6):\n",
    "\n",
    "  FACIAL_LANDMARKS_IDXS = OrderedDict([(\"left_eye\", (42, 48)),\n",
    "                                       (\"right_eye\", (36, 42))])\n",
    "\n",
    "  overlay = image.copy()\n",
    "  output = image.copy()\n",
    "\n",
    "  if colors is None:\n",
    "    colors = (19, 199, 109)\n",
    "\n",
    "  for  (i, name) in enumerate(FACIAL_LANDMARKS_IDXS.keys()):\n",
    "\n",
    "    (j, k) = FACIAL_LANDMARKS_IDXS[name]\n",
    "    pts = shape[j:k]\n",
    "    \n",
    "    for index, element in enumerate(pts):\n",
    "      pts[index] = [element[0], element[1]+8]\n",
    "\n",
    "    hull = cv2.convexHull(pts)\n",
    "    cv2.drawContours(overlay, [hull], -1, colors, -1)\n",
    "    \n",
    "  cv2.addWeighted(overlay, alpha, output, 1-alpha, 0, output)\n",
    "\n",
    "  return output\n"
   ]
  },
  {
   "cell_type": "code",
   "execution_count": null,
   "id": "37c8a5ba",
   "metadata": {},
   "outputs": [],
   "source": [
    "def puffy_localise(image):\n",
    "    \n",
    "    detector = dlib.get_frontal_face_detector()\n",
    "    #################################PATH TO shape-predictor.dat FILE COMES HERE######\n",
    "    predictor = dlib.shape_predictor(\"path to shape-predictor.dat file\")\n",
    "    \n",
    "    image = imutils.resize(image, width=500)\n",
    "    gray = cv2.cvtColor(image, cv2.COLOR_BGR2GRAY)\n",
    "\n",
    "    rects = detector(gray, 1)\n",
    "\n",
    "    for (i, rect) in enumerate(rects):\n",
    "      shape = predictor(gray, rect)\n",
    "      shape = face_utils.shape_to_np(shape)\n",
    "\n",
    "    output = visualize_facial_landmarks(image, shape)\n",
    "    return output"
   ]
  },
  {
   "cell_type": "code",
   "execution_count": null,
   "id": "8b6be50d",
   "metadata": {},
   "outputs": [],
   "source": [
    "# Testing the model against random images taken from the internet\n",
    "##################PATH TO image FILE COMES HERE################\n",
    "image = cv2.imread(\"path to image\")"
   ]
  },
  {
   "cell_type": "code",
   "execution_count": null,
   "id": "594d5fd2",
   "metadata": {},
   "outputs": [],
   "source": [
    "image = imutils.resize(image, width=500)"
   ]
  },
  {
   "cell_type": "code",
   "execution_count": null,
   "id": "513719b6",
   "metadata": {},
   "outputs": [],
   "source": [
    "#####################################PATH TO cascade.xml FILE COMES HERE##################\n",
    "face_cascade = cv2.CascadeClassifier(\"path to cascade.xml file\")"
   ]
  },
  {
   "cell_type": "code",
   "execution_count": null,
   "id": "4ae2f536",
   "metadata": {},
   "outputs": [],
   "source": [
    "gray = cv2.cvtColor(output, cv2.COLOR_BGR2GRAY)\n",
    "faces = face_cascade.detectMultiScale(gray, 1.05, 5)"
   ]
  },
  {
   "cell_type": "code",
   "execution_count": null,
   "id": "b48d28f2",
   "metadata": {},
   "outputs": [],
   "source": [
    "labels = np.array(['dark', 'notOld', 'puffy', 'wrinkles'], dtype=object)\n",
    "\n",
    "for (x, y, w, h) in faces:\n",
    "  detectedFace = image[x:x+w, y:y+h]\n",
    "  detectedFace = cv2.resize(detectedFace, (244, 244))\n",
    "  detectedFace = detectedFace.reshape(1, 244, 244, 3)\n",
    "  predictions=loaded_model.predict(detectedFace)[0]\n",
    "  cv2.rectangle(image, (x, y), (x+w, y+h), (0, 0, 255), 2)\n",
    "  \n",
    "  count = 1\n",
    "  for i in predictions:\n",
    "    classname = labels[np.where(predictions == i)]\n",
    "    accuracy = i*100\n",
    "    label = \"{}: {:.2f}%\".format(classname, accuracy)\n",
    "    \n",
    "    if classname == 'puffy' and accuracy > 75:\n",
    "      image = puffy_localise(image)\n",
    "    \n",
    "    cv2.putText(image, label, (10, count*30+25), cv2.FONT_HERSHEY_SIMPLEX, 0.5, (0, 0, 255), 2)\n",
    "        \n",
    "    count += 1\n",
    "  print(predictions)\n",
    "\n",
    "  cv2.imshow(image)\n",
    "    cv2.waitKey(0)\n",
    "    cv2.destroyAllWindows()"
   ]
  }
 ],
 "metadata": {
  "kernelspec": {
   "display_name": "Python 3",
   "language": "python",
   "name": "python3"
  },
  "language_info": {
   "codemirror_mode": {
    "name": "ipython",
    "version": 3
   },
   "file_extension": ".py",
   "mimetype": "text/x-python",
   "name": "python",
   "nbconvert_exporter": "python",
   "pygments_lexer": "ipython3",
   "version": "3.8.8"
  }
 },
 "nbformat": 4,
 "nbformat_minor": 5
}
